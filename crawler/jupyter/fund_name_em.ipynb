{
 "cells": [
  {
   "cell_type": "code",
   "execution_count": 1,
   "metadata": {},
   "outputs": [],
   "source": [
    "import requests"
   ]
  },
  {
   "cell_type": "code",
   "execution_count": 2,
   "metadata": {},
   "outputs": [],
   "source": [
    "headers = {\n",
    "    \"User-Agent\": \"Mozilla/5.0 (Windows NT 10.0; Win64; x64) AppleWebKit/537.36 (KHTML, like Gecko) Chrome/80.0.3987.149 Safari/537.36\"\n",
    "}\n",
    "url = \"http://fund.eastmoney.com/js/fundcode_search.js\"\n",
    "res = requests.get(url, headers=headers)\n"
   ]
  },
  {
   "cell_type": "code",
   "execution_count": 22,
   "metadata": {},
   "outputs": [
    {
     "name": "stdout",
     "output_type": "stream",
     "text": [
      "{'基金代码': '000001', '拼音缩写': 'HXCZHH', '基金名称': '华夏成长混合', '基金类型': '混合型-灵活', '拼音全称': 'HUAXIACHENGZHANGHUNHE'}\n"
     ]
    }
   ],
   "source": [
    "fund_info_sets = []\n",
    "fund_info_src = res.text.replace('var r = [', '').replace('];', '').replace('],[', '@@').replace('\"', '')[1:-1].split('@@')\n",
    "for item in fund_info_src:\n",
    "    token = item.split(',')\n",
    "    fund_info_sets.append({'基金代码':token[0], '拼音缩写': token[1], '基金名称': token[2], '基金类型':token[3], '拼音全称': token[4]})\n",
    "print(fund_info_sets[0])"
   ]
  },
  {
   "cell_type": "code",
   "execution_count": 23,
   "metadata": {},
   "outputs": [],
   "source": [
    "import csv\n",
    "\n",
    "data_frame = ['基金代码', '拼音缩写', '基金名称', '基金类型', '拼音全称']\n",
    "\n",
    "with open('./data/fund_list.csv', 'w') as f:\n",
    "    writer = csv.DictWriter(f, fieldnames=data_frame)\n",
    "    writer.writeheader()\n",
    "    writer.writerows(fund_info_sets)"
   ]
  }
 ],
 "metadata": {
  "kernelspec": {
   "display_name": "Python 3.10.6 ('venv': venv)",
   "language": "python",
   "name": "python3"
  },
  "language_info": {
   "codemirror_mode": {
    "name": "ipython",
    "version": 3
   },
   "file_extension": ".py",
   "mimetype": "text/x-python",
   "name": "python",
   "nbconvert_exporter": "python",
   "pygments_lexer": "ipython3",
   "version": "3.10.6"
  },
  "orig_nbformat": 4,
  "vscode": {
   "interpreter": {
    "hash": "c1863f85f76deed64363bbb4eff74ee47e810e1d87b1c2cb564ca3d168081a5e"
   }
  }
 },
 "nbformat": 4,
 "nbformat_minor": 2
}
