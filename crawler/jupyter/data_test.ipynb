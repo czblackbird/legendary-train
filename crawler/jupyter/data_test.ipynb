{
 "cells": [
  {
   "cell_type": "code",
   "execution_count": 1,
   "metadata": {},
   "outputs": [],
   "source": [
    "import requests\n",
    "import json\n",
    "import time"
   ]
  },
  {
   "cell_type": "code",
   "execution_count": 11,
   "metadata": {},
   "outputs": [],
   "source": [
    "url = \"http://fund.eastmoney.com/Data/Fund_JJJZ_Data.aspx\"\n",
    "headers = {\n",
    "    \"User-Agent\": \"Mozilla/5.0 (Windows NT 10.0; Win64; x64) AppleWebKit/537.36 (KHTML, like Gecko) Chrome/80.0.3987.149 Safari/537.36\"\n",
    "}\n",
    "params = {\n",
    "    \"t\": \"8\",\n",
    "    \"page\": \"1,50000\",\n",
    "    \"js\": \"reData\",\n",
    "    \"sort\": \"fcode,asc\",\n",
    "    \"_\": \"1641528557742\",\n",
    "}\n",
    "r = requests.get(url, params=params, headers=headers)\n",
    "\n"
   ]
  },
  {
   "cell_type": "code",
   "execution_count": 13,
   "metadata": {},
   "outputs": [
    {
     "name": "stdout",
     "output_type": "stream",
     "text": [
      "['000001', '华夏成长混合', '混合型-灵活', '1.0410', '09-30', '开放申购', '开放赎回', '', '10', '100000000000', '1', '1', '0.15%']\n",
      "{'开放申购': 11063, '暂停申购': 2523, '限大额': 2155, '封闭期': 250, '': 98, '认购期': 139, '场内交易': 730}\n"
     ]
    }
   ],
   "source": [
    "text = r.text\n",
    "index = text.index('datas:[[')\n",
    "text = text[index:].split(',record')[0]\n",
    "text = text.replace('datas:[', '', -1).replace(']]', ']', -1).replace('],[', ']@@[', -1)\n",
    "fund_src_set = text.split('@@')\n",
    "\n",
    "fund_info_set = []\n",
    "\n",
    "info = {}\n",
    "for item in fund_src_set:\n",
    "    token = item.replace('[', '', -1).replace(']', '', -1).replace('\"', '', -1).split(',')\n",
    "    fund_info_set.append(token)\n",
    "    if info.get(token[5]) is None:\n",
    "        info[token[5]] = 0\n",
    "    info[token[5]] += 1\n",
    "\n",
    "\n",
    "# print(len(fund_info_set))\n",
    "print(fund_info_set[0])\n",
    "print(info)"
   ]
  },
  {
   "cell_type": "code",
   "execution_count": null,
   "metadata": {},
   "outputs": [],
   "source": [
    "data_frame = ['code', 'fund_name', '']"
   ]
  }
 ],
 "metadata": {
  "kernelspec": {
   "display_name": "Python 3.10.6 ('venv': venv)",
   "language": "python",
   "name": "python3"
  },
  "language_info": {
   "codemirror_mode": {
    "name": "ipython",
    "version": 3
   },
   "file_extension": ".py",
   "mimetype": "text/x-python",
   "name": "python",
   "nbconvert_exporter": "python",
   "pygments_lexer": "ipython3",
   "version": "3.10.6"
  },
  "orig_nbformat": 4,
  "vscode": {
   "interpreter": {
    "hash": "c1863f85f76deed64363bbb4eff74ee47e810e1d87b1c2cb564ca3d168081a5e"
   }
  }
 },
 "nbformat": 4,
 "nbformat_minor": 2
}
